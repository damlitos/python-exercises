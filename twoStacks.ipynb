{
 "cells": [
  {
   "cell_type": "code",
   "execution_count": 26,
   "metadata": {},
   "outputs": [
    {
     "name": "stdout",
     "output_type": "stream",
     "text": [
      "There is nothing to pop out!\n",
      "Popped element from stack1 is None\n",
      "Popped element from stack1 is 11\n",
      "Popped element from stack2 is 40\n"
     ]
    }
   ],
   "source": [
    "#two stacks in one array\n",
    "\n",
    "class twoStacks:\n",
    "    def __init__(self, n):\n",
    "        self.size = n\n",
    "        self.array = [None]*n\n",
    "        self.top1 = -1#top1 is the index of last pushed elt for array 1\n",
    "        self.top2 = self.size#top2 is the index of last pushed elt for array 2\n",
    "        \n",
    "    \n",
    "    def push1(self,item):#top1 is the index of last pushed elt for array 1\n",
    "        if (self.top2>self.top1+1):#it means there is at least one place\n",
    "            self.array[self.top1+1] = item\n",
    "            self.top1 += 1\n",
    "        else:#if there is no space left\n",
    "            print(\"No space left!\")\n",
    "            return\n",
    "        \n",
    "    def push2(self,item):#for second array's push\n",
    "        if (self.top2>self.top1+1):\n",
    "            self.array[self.top2-1] = item\n",
    "            self.top2 -= 1\n",
    "        else:#if there is no space left\n",
    "            print(\"No space left!\")\n",
    "            exit(1)\n",
    "    \n",
    "    def pop1(self):#for first array's pop\n",
    "        if self.top1>-1:#if there is something \n",
    "            poppedElt = self.array[self.top1]\n",
    "            self.array[self.top1] = None\n",
    "            self.top1 -= 1\n",
    "            return poppedElt\n",
    "        else:\n",
    "            print(\"There is nothing to pop out!\")\n",
    "            return\n",
    "    \n",
    "    def pop2(self):#for second array's pop\n",
    "        if self.top2<self.size:#if there is something \n",
    "            poppedElt = self.array[self.top2]\n",
    "            self.array[self.top2] = None\n",
    "            self.top2 += 1\n",
    "            return poppedElt\n",
    "        else:\n",
    "            print(\"There is nothing to pop out!\")\n",
    "            return\n",
    "        \n",
    "    def printContext(self):#to print the elements of the array\n",
    "        for n in self.array:\n",
    "            print n\n",
    "    \n",
    "##now test time\n",
    "\n",
    "#myArray = twoStacks(10)\n",
    "#myArray.push1(3)\n",
    "#myArray.push2(5)\n",
    "#myArray.push2(6)\n",
    "#print(\"Here\")\n",
    "#myArray.printContext()\n",
    "#myArray.pop1()\n",
    "#myArray.pop2()\n",
    "#print(\"AFTER pops\")    \n",
    "#myArray.printContext()         \n",
    "#myArray.push1(33)\n",
    "#myArray.push2(55) \n",
    "#print(\"AFTER pushs\")    \n",
    "#myArray.printContext()  \n",
    "\n",
    "\n",
    "ts = twoStacks(5) \n",
    "print(\"Popped element from stack1 is \" + str(ts.pop1())) \n",
    "ts.push1(5) \n",
    "ts.push2(10) \n",
    "ts.push2(15) \n",
    "ts.push1(11) \n",
    "ts.push2(7) \n",
    "  \n",
    "print(\"Popped element from stack1 is \" + str(ts.pop1())) \n",
    "ts.push2(40) \n",
    "print(\"Popped element from stack2 is \" + str(ts.pop2())) "
   ]
  },
  {
   "cell_type": "code",
   "execution_count": null,
   "metadata": {},
   "outputs": [],
   "source": []
  },
  {
   "cell_type": "code",
   "execution_count": null,
   "metadata": {},
   "outputs": [],
   "source": []
  }
 ],
 "metadata": {
  "kernelspec": {
   "display_name": "Python 2",
   "language": "python",
   "name": "python2"
  },
  "language_info": {
   "codemirror_mode": {
    "name": "ipython",
    "version": 2
   },
   "file_extension": ".py",
   "mimetype": "text/x-python",
   "name": "python",
   "nbconvert_exporter": "python",
   "pygments_lexer": "ipython2",
   "version": "2.7.15"
  }
 },
 "nbformat": 4,
 "nbformat_minor": 2
}

{
 "cells": [
  {
   "cell_type": "code",
   "execution_count": 6,
   "metadata": {},
   "outputs": [
    {
     "name": "stdout",
     "output_type": "stream",
     "text": [
      "34\n"
     ]
    }
   ],
   "source": [
    "#Given a number n, print n-th Fibonacci Number.\n",
    "\n",
    "def Fib(n):\n",
    "    if n ==0:\n",
    "        return 0\n",
    "    elif n == 1:\n",
    "        return 1\n",
    "    else:\n",
    "        return Fib(n-1) + Fib(n-2)\n",
    "\n",
    "\n",
    "print(Fib(9))\n",
    "\n",
    "\n",
    "# A program to count the number of ways to reach n'th stair \n",
    "\n",
    "# Recurssive program to find n'th fibonacci number \n",
    "def fib(n): \n",
    "\tif n <= 1: \n",
    "\t\treturn n \n",
    "\treturn fib(n-1) + fib(n-2) \n",
    "\n",
    "# returns no. of ways to reach s'th stair \n",
    "def countWays(s): \n",
    "\treturn fib(s + 1) \n",
    "\n",
    "# Driver program \n",
    "\n",
    "s = 4\n",
    "print \"Number of ways = \", \n",
    "print countWays(s) \n",
    "\n",
    "# Contributed by Harshit Agrawal \n",
    "\n"
   ]
  },
  {
   "cell_type": "code",
   "execution_count": null,
   "metadata": {},
   "outputs": [],
   "source": []
  },
  {
   "cell_type": "code",
   "execution_count": null,
   "metadata": {},
   "outputs": [],
   "source": []
  }
 ],
 "metadata": {
  "kernelspec": {
   "display_name": "Python 2",
   "language": "python",
   "name": "python2"
  },
  "language_info": {
   "codemirror_mode": {
    "name": "ipython",
    "version": 2
   },
   "file_extension": ".py",
   "mimetype": "text/x-python",
   "name": "python",
   "nbconvert_exporter": "python",
   "pygments_lexer": "ipython2",
   "version": "2.7.15"
  }
 },
 "nbformat": 4,
 "nbformat_minor": 2
}

{
 "cells": [
  {
   "cell_type": "code",
   "execution_count": 20,
   "metadata": {},
   "outputs": [
    {
     "name": "stdout",
     "output_type": "stream",
     "text": [
      " 1 2 3\n"
     ]
    }
   ],
   "source": [
    "class Node:\n",
    "    def __init__(self,data):\n",
    "        self.data = data\n",
    "        self.next = None\n",
    "\n",
    "class LinkedList:\n",
    "    def __init__(self):\n",
    "        self.head = None\n",
    "    \n",
    "    def isEmpty(self):\n",
    "        return self.next == None\n",
    "     \n",
    "        \n",
    "    def printList(self): \n",
    "        temp = self.head \n",
    "        while (temp): \n",
    "            print temp.data, \n",
    "            temp = temp.next\n",
    "            \n",
    "# Code execution starts here \n",
    "if __name__=='__main__': \n",
    "  \n",
    "    # Start with the empty list \n",
    "    llist = LinkedList() \n",
    "  \n",
    "    llist.head  = Node(1) \n",
    "    second = Node(2) \n",
    "    third  = Node(3) \n",
    "  \n",
    "    llist.head.next = second; # Link first node with second \n",
    "    second.next = third; # Link second node with the third node \n",
    "  \n",
    "    llist.printList() \n",
    "     \n",
    "          \n",
    "        "
   ]
  },
  {
   "cell_type": "code",
   "execution_count": null,
   "metadata": {},
   "outputs": [],
   "source": []
  }
 ],
 "metadata": {
  "kernelspec": {
   "display_name": "Python 2",
   "language": "python",
   "name": "python2"
  },
  "language_info": {
   "codemirror_mode": {
    "name": "ipython",
    "version": 2
   },
   "file_extension": ".py",
   "mimetype": "text/x-python",
   "name": "python",
   "nbconvert_exporter": "python",
   "pygments_lexer": "ipython2",
   "version": "2.7.15"
  }
 },
 "nbformat": 4,
 "nbformat_minor": 2
}

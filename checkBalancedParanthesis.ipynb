{
 "cells": [
  {
   "cell_type": "code",
   "execution_count": 23,
   "metadata": {},
   "outputs": [
    {
     "name": "stdout",
     "output_type": "stream",
     "text": [
      "It is balanced!\n"
     ]
    }
   ],
   "source": [
    "#check balanced paranthesis for {,(,[])} with stacks\n",
    "class Stack:\n",
    "    def __init__(self):\n",
    "        self.arr = []\n",
    "    def push(self,item):\n",
    "        self.arr.append(item)\n",
    "        \n",
    "    def pop(self):\n",
    "        self.arr.pop()\n",
    "        \n",
    "    def size(self):\n",
    "        return len(self.arr)\n",
    "        \n",
    "\n",
    "#input = '[()]{}{[()()]()}'\n",
    "input = \"{()}[]\"\n",
    "myStack = Stack()\n",
    "\n",
    "# \n",
    "for elt in input:\n",
    "    \n",
    "    if elt == '{':\n",
    "        myStack.push(elt)\n",
    "        \n",
    "    elif elt  == '(':\n",
    "        myStack.push(elt)\n",
    "        \n",
    "    elif elt  == '[':\n",
    "        myStack.push(elt)\n",
    "        \n",
    "    elif elt  == '}':\n",
    "        if myStack.arr[myStack.size()-1] == '{':\n",
    "            myStack.pop()\n",
    "        else:\n",
    "            print \"It is not balanced!\"\n",
    "            exit(1)\n",
    "            \n",
    "    elif elt  == ')':\n",
    "        if myStack.arr[myStack.size()-1] == '(':\n",
    "            myStack.pop()\n",
    "        else:\n",
    "            print \"It is not balanced!\"\n",
    "            exit(1)\n",
    "    \n",
    "    elif elt  == ']':\n",
    "        if myStack.arr[myStack.size()-1] == '[':\n",
    "            myStack.pop()\n",
    "        else:\n",
    "            print \"It is not balanced!\"\n",
    "            exit(1)\n",
    "    \n",
    "if myStack.size() == 0:\n",
    "    print \"It is balanced!\"\n",
    "else:\n",
    "     print \"It is not balanced!\"\n",
    "    \n",
    "        "
   ]
  },
  {
   "cell_type": "code",
   "execution_count": null,
   "metadata": {},
   "outputs": [],
   "source": []
  }
 ],
 "metadata": {
  "kernelspec": {
   "display_name": "Python 2",
   "language": "python",
   "name": "python2"
  },
  "language_info": {
   "codemirror_mode": {
    "name": "ipython",
    "version": 2
   },
   "file_extension": ".py",
   "mimetype": "text/x-python",
   "name": "python",
   "nbconvert_exporter": "python",
   "pygments_lexer": "ipython2",
   "version": "2.7.15"
  }
 },
 "nbformat": 4,
 "nbformat_minor": 2
}

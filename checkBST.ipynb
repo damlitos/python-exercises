{
 "cells": [
  {
   "cell_type": "code",
   "execution_count": 10,
   "metadata": {},
   "outputs": [
    {
     "name": "stdout",
     "output_type": "stream",
     "text": [
      "Is BST\n"
     ]
    }
   ],
   "source": [
    "# Python program to check if a binary tree is bst or not \n",
    "\n",
    "INT_MAX = 4294967296\n",
    "INT_MIN = -4294967296\n",
    "\n",
    "# A binary tree node \n",
    "class Node: \n",
    "\n",
    "\t# Constructor to create a new node \n",
    "\tdef __init__(self, data): \n",
    "\t\tself.data = data \n",
    "\t\tself.left = None\n",
    "\t\tself.right = None\n",
    "\n",
    "\n",
    "# Returns true if the given tree is a binary search tree \n",
    "# (efficient version) \n",
    "def isBST(node): \n",
    "\treturn (isBSTUtil(node, INT_MIN, INT_MAX)) \n",
    "\n",
    "# Retusn true if the given tree is a BST and its values \n",
    "# >= min and <= max \n",
    "def isBSTUtil(node, mini, maxi): \n",
    "\t\n",
    "\t# An empty tree is BST \n",
    "\tif node is None: \n",
    "\t\treturn True\n",
    "\n",
    "\t# False if this node violates min/max constraint \n",
    "\tif node.data < mini or node.data > maxi: \n",
    "\t\treturn False\n",
    "\n",
    "\t# Otherwise check the subtrees recursively \n",
    "\t# tightening the min or max constraint \n",
    "\treturn (isBSTUtil(node.left, mini, node.data -1) and\n",
    "\t\tisBSTUtil(node.right, node.data+1, maxi)) \n",
    "\n",
    "# Driver program to test above function \n",
    "root = Node(4) \n",
    "root.left = Node(2) \n",
    "root.right = Node(5) \n",
    "root.left.left = Node(1) \n",
    "root.left.right = Node(3) \n",
    "\n",
    "if (isBST(root)): \n",
    "\tprint \"Is BST\"\n",
    "else: \n",
    "\tprint \"Not a BST\"\n",
    "\n",
    "# This code is contributed by Nikhil Kumar Singh(nickzuck_007) \n"
   ]
  },
  {
   "cell_type": "code",
   "execution_count": null,
   "metadata": {},
   "outputs": [],
   "source": []
  }
 ],
 "metadata": {
  "kernelspec": {
   "display_name": "Python 2",
   "language": "python",
   "name": "python2"
  },
  "language_info": {
   "codemirror_mode": {
    "name": "ipython",
    "version": 2
   },
   "file_extension": ".py",
   "mimetype": "text/x-python",
   "name": "python",
   "nbconvert_exporter": "python",
   "pygments_lexer": "ipython2",
   "version": "2.7.15"
  }
 },
 "nbformat": 4,
 "nbformat_minor": 2
}

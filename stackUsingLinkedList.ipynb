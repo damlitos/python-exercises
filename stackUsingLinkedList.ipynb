{
 "cells": [
  {
   "cell_type": "code",
   "execution_count": 14,
   "metadata": {},
   "outputs": [
    {
     "name": "stdout",
     "output_type": "stream",
     "text": [
      "10 is pushed to the stack\n",
      "20 is pushed to the stack\n",
      "30 is pushed to the stack\n",
      " 30 popped from stack\n",
      "Top element is  20 \n",
      "20 popped from stack\n",
      "10 popped from stack\n"
     ]
    }
   ],
   "source": [
    "#implementing stacks using linked list\n",
    "#print binary representation of an integer using stacks\n",
    "\n",
    "class StackNode:\n",
    "    #constructor for a stack node\n",
    "    def __init__(self,data):\n",
    "        self.next = None\n",
    "        self.data = data\n",
    "        \n",
    "class Stack:\n",
    "    #constructor for a stack\n",
    "    def __init__(self):\n",
    "        self.root = None\n",
    "        \n",
    "    def isEmpty(self):\n",
    "        return self.root == None\n",
    "    \n",
    "    #push to the front\n",
    "    def push(self,data):\n",
    "        stackNode = StackNode(data)\n",
    "        stackNode.next = self.root\n",
    "        self.root = stackNode #update root which is the new data\n",
    "        print \"%d is pushed to the stack\" %(data)\n",
    "    \n",
    "    #delete the last pushed one\n",
    "    def pop(self):\n",
    "        if self.isEmpty(): return float(\"-inf\") \n",
    "        tempData =  self.root\n",
    "        self.root = self.root.next\n",
    "        return tempData.data\n",
    "    \n",
    "    #return the top most element\n",
    "    def peek(self):\n",
    "        if self.isEmpty(): return\n",
    "        return self.root.data\n",
    "    \n",
    "#test\n",
    "myStack = Stack()\n",
    "myStack.push(10)\n",
    "myStack.push(20)\n",
    "myStack.push(30)\n",
    "\n",
    "print \"%d popped from stack\" %(myStack.pop()) \n",
    "print \"Top element is % d \" %(myStack.peek()) \n",
    "print \"%d popped from stack\" %(myStack.pop()) \n",
    "print \"%d popped from stack\" %(myStack.pop())   \n",
    "        \n",
    "        \n",
    "        \n",
    "        "
   ]
  },
  {
   "cell_type": "code",
   "execution_count": null,
   "metadata": {},
   "outputs": [],
   "source": []
  }
 ],
 "metadata": {
  "kernelspec": {
   "display_name": "Python 2",
   "language": "python",
   "name": "python2"
  },
  "language_info": {
   "codemirror_mode": {
    "name": "ipython",
    "version": 2
   },
   "file_extension": ".py",
   "mimetype": "text/x-python",
   "name": "python",
   "nbconvert_exporter": "python",
   "pygments_lexer": "ipython2",
   "version": "2.7.15"
  }
 },
 "nbformat": 4,
 "nbformat_minor": 2
}

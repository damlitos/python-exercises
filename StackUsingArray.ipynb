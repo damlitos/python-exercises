{
 "cells": [
  {
   "cell_type": "code",
   "execution_count": 17,
   "metadata": {},
   "outputs": [
    {
     "name": "stdout",
     "output_type": "stream",
     "text": [
      "Item 3 is pushed to the stack!\n",
      "Item 5 is pushed to the stack!\n",
      "False\n",
      "Size 1\n",
      "True\n",
      "Size 0\n",
      "Size 0\n",
      "True\n"
     ]
    }
   ],
   "source": [
    "def createStack():\n",
    "    myStack = []\n",
    "    return myStack\n",
    "\n",
    "def size(myStack):\n",
    "    return len(myStack)\n",
    "\n",
    "def push(myStack, element):\n",
    "    myStack.append(element)\n",
    "    print('Item ' + str(element) + ' is pushed to the stack!')\n",
    "    return myStack\n",
    "\n",
    "def pop(myStack):\n",
    "    if isEmpty(myStack): return\n",
    "    else:\n",
    "        return myStack.pop()\n",
    "\n",
    "def isEmpty(myStack):\n",
    "    return size(myStack)==0 \n",
    "    \n",
    "\n",
    "myStack = createStack()\n",
    "push(myStack,3)\n",
    "push(myStack,5)\n",
    "print(isEmpty(myStack))\n",
    "pop(myStack)\n",
    "print('Size ' + str(size(myStack)))\n",
    "pop(myStack)\n",
    "print(isEmpty(myStack))\n",
    "print('Size ' + str(size(myStack)))\n",
    "pop(myStack)\n",
    "print('Size ' + str(size(myStack)))\n",
    "print(isEmpty(myStack))"
   ]
  }
 ],
 "metadata": {
  "kernelspec": {
   "display_name": "Python 2",
   "language": "python",
   "name": "python2"
  },
  "language_info": {
   "codemirror_mode": {
    "name": "ipython",
    "version": 2
   },
   "file_extension": ".py",
   "mimetype": "text/x-python",
   "name": "python",
   "nbconvert_exporter": "python",
   "pygments_lexer": "ipython2",
   "version": "2.7.15"
  }
 },
 "nbformat": 4,
 "nbformat_minor": 2
}
